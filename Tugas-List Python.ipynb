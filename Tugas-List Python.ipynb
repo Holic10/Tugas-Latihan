{
 "cells": [
  {
   "cell_type": "code",
   "execution_count": 1,
   "id": "e9d1eddc",
   "metadata": {},
   "outputs": [],
   "source": [
    "tinggi = 1.73\n",
    "apakah_tinggi = True "
   ]
  },
  {
   "cell_type": "code",
   "execution_count": 2,
   "id": "1af66769",
   "metadata": {},
   "outputs": [],
   "source": [
    "tinggi_1 = 1.34\n",
    "tinggi_2 = 1.69\n",
    "tinggi_3 = 1.82\n",
    "tinggi_4 = 1.99"
   ]
  },
  {
   "cell_type": "code",
   "execution_count": 3,
   "id": "a85ea003",
   "metadata": {},
   "outputs": [
    {
     "data": {
      "text/plain": [
       "[1.73, 1.68, 1.71, 1.89]"
      ]
     },
     "execution_count": 3,
     "metadata": {},
     "output_type": "execute_result"
    }
   ],
   "source": [
    "[1.73, 1.68, 1.71, 1.89]"
   ]
  },
  {
   "cell_type": "code",
   "execution_count": 4,
   "id": "57457ce5",
   "metadata": {},
   "outputs": [
    {
     "data": {
      "text/plain": [
       "[1.73, 1.68, 1.71, 1.89]"
      ]
     },
     "execution_count": 4,
     "metadata": {},
     "output_type": "execute_result"
    }
   ],
   "source": [
    "keluarga = [1.73, 1.68, 1.71, 1.89]\n",
    "keluarga"
   ]
  },
  {
   "cell_type": "code",
   "execution_count": 5,
   "id": "b21191bb",
   "metadata": {},
   "outputs": [],
   "source": [
    "#Subsetting List\n",
    "keluarga = [\"kakak\", 1.73, \"adik\", 1.68, \"ibu\", 1.71, \"ayah\", 1.89]"
   ]
  },
  {
   "cell_type": "code",
   "execution_count": 6,
   "id": "c4f361d0",
   "metadata": {},
   "outputs": [
    {
     "data": {
      "text/plain": [
       "['kakak', 1.73, 'adik', 1.68, 'ibu', 1.71, 'ayah', 1.89]"
      ]
     },
     "execution_count": 6,
     "metadata": {},
     "output_type": "execute_result"
    }
   ],
   "source": [
    "keluarga"
   ]
  },
  {
   "cell_type": "code",
   "execution_count": 7,
   "id": "ff772140",
   "metadata": {},
   "outputs": [],
   "source": [
    "keluarga_2 = [[\"kakak\", 1.73], [\"adik\", 1.68], [\"ibu\", 1.71], [\"ayah\", 1.89]]"
   ]
  },
  {
   "cell_type": "code",
   "execution_count": 8,
   "id": "48a09572",
   "metadata": {},
   "outputs": [
    {
     "data": {
      "text/plain": [
       "[['kakak', 1.73], ['adik', 1.68], ['ibu', 1.71], ['ayah', 1.89]]"
      ]
     },
     "execution_count": 8,
     "metadata": {},
     "output_type": "execute_result"
    }
   ],
   "source": [
    "keluarga_2"
   ]
  },
  {
   "cell_type": "code",
   "execution_count": 9,
   "id": "6ed36c3f",
   "metadata": {},
   "outputs": [
    {
     "data": {
      "text/plain": [
       "list"
      ]
     },
     "execution_count": 9,
     "metadata": {},
     "output_type": "execute_result"
    }
   ],
   "source": [
    "type(keluarga)"
   ]
  },
  {
   "cell_type": "code",
   "execution_count": 10,
   "id": "affab880",
   "metadata": {},
   "outputs": [
    {
     "data": {
      "text/plain": [
       "list"
      ]
     },
     "execution_count": 10,
     "metadata": {},
     "output_type": "execute_result"
    }
   ],
   "source": [
    "type(keluarga_2)"
   ]
  },
  {
   "cell_type": "code",
   "execution_count": 11,
   "id": "3d65b52e",
   "metadata": {},
   "outputs": [],
   "source": [
    "keluarga = [\"kakak\", 1.73, \"adik\", 1.68, \"ibu\", 1.71, \"ayah\", 1.89]"
   ]
  },
  {
   "cell_type": "code",
   "execution_count": 12,
   "id": "fce1317f",
   "metadata": {},
   "outputs": [
    {
     "data": {
      "text/plain": [
       "'adik'"
      ]
     },
     "execution_count": 12,
     "metadata": {},
     "output_type": "execute_result"
    }
   ],
   "source": [
    "keluarga[2]"
   ]
  },
  {
   "cell_type": "code",
   "execution_count": 13,
   "id": "db3ededd",
   "metadata": {},
   "outputs": [
    {
     "data": {
      "text/plain": [
       "1.71"
      ]
     },
     "execution_count": 13,
     "metadata": {},
     "output_type": "execute_result"
    }
   ],
   "source": [
    "keluarga[5]"
   ]
  },
  {
   "cell_type": "code",
   "execution_count": 14,
   "id": "abcfc079",
   "metadata": {},
   "outputs": [
    {
     "data": {
      "text/plain": [
       "1.89"
      ]
     },
     "execution_count": 14,
     "metadata": {},
     "output_type": "execute_result"
    }
   ],
   "source": [
    "keluarga[-1]"
   ]
  },
  {
   "cell_type": "code",
   "execution_count": 15,
   "id": "df705a6a",
   "metadata": {},
   "outputs": [
    {
     "data": {
      "text/plain": [
       "'ibu'"
      ]
     },
     "execution_count": 15,
     "metadata": {},
     "output_type": "execute_result"
    }
   ],
   "source": [
    "keluarga[-4]"
   ]
  },
  {
   "cell_type": "code",
   "execution_count": 16,
   "id": "1783475c",
   "metadata": {},
   "outputs": [
    {
     "data": {
      "text/plain": [
       "'kakak'"
      ]
     },
     "execution_count": 16,
     "metadata": {},
     "output_type": "execute_result"
    }
   ],
   "source": [
    "keluarga_2[0][0]"
   ]
  },
  {
   "cell_type": "code",
   "execution_count": 17,
   "id": "2abc8001",
   "metadata": {},
   "outputs": [
    {
     "data": {
      "text/plain": [
       "1.73"
      ]
     },
     "execution_count": 17,
     "metadata": {},
     "output_type": "execute_result"
    }
   ],
   "source": [
    "keluarga_2[0][1]"
   ]
  },
  {
   "cell_type": "code",
   "execution_count": 19,
   "id": "469d91bc",
   "metadata": {},
   "outputs": [
    {
     "data": {
      "text/plain": [
       "['kakak', 1.73, 'adik', 1.68, 'ibu', 1.71, 'ayah', 1.89]"
      ]
     },
     "execution_count": 19,
     "metadata": {},
     "output_type": "execute_result"
    }
   ],
   "source": [
    "#Slicing List\n",
    "keluarga"
   ]
  },
  {
   "cell_type": "code",
   "execution_count": 20,
   "id": "4dfae88f",
   "metadata": {},
   "outputs": [
    {
     "data": {
      "text/plain": [
       "[1.68, 'ibu']"
      ]
     },
     "execution_count": 20,
     "metadata": {},
     "output_type": "execute_result"
    }
   ],
   "source": [
    "keluarga[3:5]"
   ]
  },
  {
   "cell_type": "code",
   "execution_count": 21,
   "id": "7d5c1f87",
   "metadata": {},
   "outputs": [
    {
     "data": {
      "text/plain": [
       "[1.73, 'adik', 1.68]"
      ]
     },
     "execution_count": 21,
     "metadata": {},
     "output_type": "execute_result"
    }
   ],
   "source": [
    "keluarga[1:4]"
   ]
  },
  {
   "cell_type": "code",
   "execution_count": 22,
   "id": "ddc4bf64",
   "metadata": {},
   "outputs": [
    {
     "data": {
      "text/plain": [
       "['kakak', 1.73, 'adik', 1.68]"
      ]
     },
     "execution_count": 22,
     "metadata": {},
     "output_type": "execute_result"
    }
   ],
   "source": [
    "keluarga[:4]"
   ]
  },
  {
   "cell_type": "code",
   "execution_count": 23,
   "id": "60eb2e59",
   "metadata": {},
   "outputs": [
    {
     "data": {
      "text/plain": [
       "[1.71, 'ayah', 1.89]"
      ]
     },
     "execution_count": 23,
     "metadata": {},
     "output_type": "execute_result"
    }
   ],
   "source": [
    "keluarga[5:]"
   ]
  },
  {
   "cell_type": "code",
   "execution_count": 24,
   "id": "7c0bc16e",
   "metadata": {},
   "outputs": [
    {
     "data": {
      "text/plain": [
       "[['kakak', 1.73], ['adik', 1.68]]"
      ]
     },
     "execution_count": 24,
     "metadata": {},
     "output_type": "execute_result"
    }
   ],
   "source": [
    "keluarga_2[0:2]"
   ]
  },
  {
   "cell_type": "code",
   "execution_count": 25,
   "id": "5583fe25",
   "metadata": {},
   "outputs": [
    {
     "data": {
      "text/plain": [
       "['kakak', 1.73, 'adik', 1.68, 'ibu', 1.71, 'ayah', 1.89]"
      ]
     },
     "execution_count": 25,
     "metadata": {},
     "output_type": "execute_result"
    }
   ],
   "source": [
    "#Memanipulasi List\n",
    "keluarga"
   ]
  },
  {
   "cell_type": "code",
   "execution_count": 26,
   "id": "59d49b2d",
   "metadata": {},
   "outputs": [],
   "source": [
    "keluarga[7] = 1.77"
   ]
  },
  {
   "cell_type": "code",
   "execution_count": 27,
   "id": "9be5729e",
   "metadata": {},
   "outputs": [
    {
     "data": {
      "text/plain": [
       "['kakak', 1.73, 'adik', 1.68, 'ibu', 1.71, 'ayah', 1.77]"
      ]
     },
     "execution_count": 27,
     "metadata": {},
     "output_type": "execute_result"
    }
   ],
   "source": [
    "keluarga"
   ]
  },
  {
   "cell_type": "code",
   "execution_count": 28,
   "id": "559a5b34",
   "metadata": {},
   "outputs": [],
   "source": [
    "keluarga[0:2] = [\"saya\", 1.74]"
   ]
  },
  {
   "cell_type": "code",
   "execution_count": 29,
   "id": "ccfdd2b0",
   "metadata": {},
   "outputs": [
    {
     "data": {
      "text/plain": [
       "['saya', 1.74, 'adik', 1.68, 'ibu', 1.71, 'ayah', 1.77]"
      ]
     },
     "execution_count": 29,
     "metadata": {},
     "output_type": "execute_result"
    }
   ],
   "source": [
    "keluarga"
   ]
  },
  {
   "cell_type": "code",
   "execution_count": 30,
   "id": "58d3cee0",
   "metadata": {},
   "outputs": [],
   "source": [
    "#Menambah dan menghapus elemen\n",
    "keluarga = [\"kakak\", 1.73, \"adik\", 1.68, \"ibu\", 1.71, \"ayah\", 1.89]"
   ]
  },
  {
   "cell_type": "code",
   "execution_count": 31,
   "id": "de84e151",
   "metadata": {},
   "outputs": [
    {
     "data": {
      "text/plain": [
       "['kakak', 1.73, 'adik', 1.68, 'ibu', 1.71, 'ayah', 1.89]"
      ]
     },
     "execution_count": 31,
     "metadata": {},
     "output_type": "execute_result"
    }
   ],
   "source": [
    "keluarga"
   ]
  },
  {
   "cell_type": "code",
   "execution_count": 32,
   "id": "87143690",
   "metadata": {},
   "outputs": [
    {
     "data": {
      "text/plain": [
       "['kakak', 1.73, 'adik', 1.68, 'ibu', 1.71, 'ayah', 1.89, 'saya', 1.74]"
      ]
     },
     "execution_count": 32,
     "metadata": {},
     "output_type": "execute_result"
    }
   ],
   "source": [
    "keluarga + [\"saya\", 1.74]"
   ]
  },
  {
   "cell_type": "code",
   "execution_count": 33,
   "id": "4262af52",
   "metadata": {},
   "outputs": [],
   "source": [
    "keluarga_tambahan = keluarga + [\"saya\", 1.74]"
   ]
  },
  {
   "cell_type": "code",
   "execution_count": 34,
   "id": "b4c8845e",
   "metadata": {},
   "outputs": [],
   "source": [
    "del(keluarga[2])"
   ]
  },
  {
   "cell_type": "code",
   "execution_count": 35,
   "id": "a29af923",
   "metadata": {},
   "outputs": [
    {
     "data": {
      "text/plain": [
       "['kakak', 1.73, 1.68, 'ibu', 1.71, 'ayah', 1.89]"
      ]
     },
     "execution_count": 35,
     "metadata": {},
     "output_type": "execute_result"
    }
   ],
   "source": [
    "keluarga"
   ]
  },
  {
   "cell_type": "code",
   "execution_count": 36,
   "id": "3bfa1b3a",
   "metadata": {},
   "outputs": [],
   "source": [
    "del(keluarga[2])"
   ]
  },
  {
   "cell_type": "code",
   "execution_count": 37,
   "id": "eeb57433",
   "metadata": {},
   "outputs": [
    {
     "data": {
      "text/plain": [
       "['kakak', 1.73, 'ibu', 1.71, 'ayah', 1.89]"
      ]
     },
     "execution_count": 37,
     "metadata": {},
     "output_type": "execute_result"
    }
   ],
   "source": [
    "keluarga"
   ]
  },
  {
   "cell_type": "code",
   "execution_count": 38,
   "id": "600c53ff",
   "metadata": {},
   "outputs": [],
   "source": [
    "#Tambahan\n",
    "x = [\"a\", \"b\", \"c\"]\n",
    "y = x"
   ]
  },
  {
   "cell_type": "code",
   "execution_count": 39,
   "id": "a9680050",
   "metadata": {},
   "outputs": [
    {
     "data": {
      "text/plain": [
       "['a', 'b', 'c']"
      ]
     },
     "execution_count": 39,
     "metadata": {},
     "output_type": "execute_result"
    }
   ],
   "source": [
    "x\n"
   ]
  },
  {
   "cell_type": "code",
   "execution_count": 40,
   "id": "83df7e0e",
   "metadata": {},
   "outputs": [
    {
     "data": {
      "text/plain": [
       "['a', 'b', 'c']"
      ]
     },
     "execution_count": 40,
     "metadata": {},
     "output_type": "execute_result"
    }
   ],
   "source": [
    "y"
   ]
  },
  {
   "cell_type": "code",
   "execution_count": 41,
   "id": "23c94be5",
   "metadata": {},
   "outputs": [],
   "source": [
    "y[1] = \"z\""
   ]
  },
  {
   "cell_type": "code",
   "execution_count": 42,
   "id": "72593c91",
   "metadata": {},
   "outputs": [
    {
     "data": {
      "text/plain": [
       "['a', 'z', 'c']"
      ]
     },
     "execution_count": 42,
     "metadata": {},
     "output_type": "execute_result"
    }
   ],
   "source": [
    "x"
   ]
  },
  {
   "cell_type": "code",
   "execution_count": 43,
   "id": "073c5d0e",
   "metadata": {},
   "outputs": [
    {
     "data": {
      "text/plain": [
       "['a', 'z', 'c']"
      ]
     },
     "execution_count": 43,
     "metadata": {},
     "output_type": "execute_result"
    }
   ],
   "source": [
    "y"
   ]
  },
  {
   "cell_type": "code",
   "execution_count": 44,
   "id": "beeab572",
   "metadata": {},
   "outputs": [],
   "source": [
    "#Agar tidak sharing value\n",
    "x = [\"a\", \"b\", \"c\"]\n",
    "y = list(x)\n",
    "z = x[:]"
   ]
  },
  {
   "cell_type": "code",
   "execution_count": 45,
   "id": "33cc33eb",
   "metadata": {},
   "outputs": [],
   "source": [
    "x[1] = 'haha'"
   ]
  },
  {
   "cell_type": "code",
   "execution_count": 46,
   "id": "b1f41af9",
   "metadata": {},
   "outputs": [
    {
     "data": {
      "text/plain": [
       "['a', 'haha', 'c']"
      ]
     },
     "execution_count": 46,
     "metadata": {},
     "output_type": "execute_result"
    }
   ],
   "source": [
    "x"
   ]
  },
  {
   "cell_type": "code",
   "execution_count": 47,
   "id": "052d2b49",
   "metadata": {},
   "outputs": [
    {
     "data": {
      "text/plain": [
       "['a', 'b', 'c']"
      ]
     },
     "execution_count": 47,
     "metadata": {},
     "output_type": "execute_result"
    }
   ],
   "source": [
    "y"
   ]
  },
  {
   "cell_type": "code",
   "execution_count": 48,
   "id": "d9a73d17",
   "metadata": {},
   "outputs": [
    {
     "data": {
      "text/plain": [
       "['a', 'b', 'c']"
      ]
     },
     "execution_count": 48,
     "metadata": {},
     "output_type": "execute_result"
    }
   ],
   "source": [
    "z"
   ]
  },
  {
   "cell_type": "code",
   "execution_count": null,
   "id": "3b889107",
   "metadata": {},
   "outputs": [],
   "source": []
  }
 ],
 "metadata": {
  "kernelspec": {
   "display_name": "Python 3 (ipykernel)",
   "language": "python",
   "name": "python3"
  },
  "language_info": {
   "codemirror_mode": {
    "name": "ipython",
    "version": 3
   },
   "file_extension": ".py",
   "mimetype": "text/x-python",
   "name": "python",
   "nbconvert_exporter": "python",
   "pygments_lexer": "ipython3",
   "version": "3.9.13"
  }
 },
 "nbformat": 4,
 "nbformat_minor": 5
}
