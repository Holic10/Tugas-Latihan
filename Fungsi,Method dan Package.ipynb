{
 "cells": [
  {
   "cell_type": "code",
   "execution_count": 1,
   "id": "571a0138",
   "metadata": {},
   "outputs": [],
   "source": [
    "keluarga = [1.73, 1.68, 1.71, 1.89]"
   ]
  },
  {
   "cell_type": "code",
   "execution_count": 2,
   "id": "8c57cf82",
   "metadata": {},
   "outputs": [
    {
     "data": {
      "text/plain": [
       "[1.73, 1.68, 1.71, 1.89]"
      ]
     },
     "execution_count": 2,
     "metadata": {},
     "output_type": "execute_result"
    }
   ],
   "source": [
    "keluarga"
   ]
  },
  {
   "cell_type": "code",
   "execution_count": 3,
   "id": "17117543",
   "metadata": {},
   "outputs": [
    {
     "data": {
      "text/plain": [
       "1.89"
      ]
     },
     "execution_count": 3,
     "metadata": {},
     "output_type": "execute_result"
    }
   ],
   "source": [
    "max(keluarga)"
   ]
  },
  {
   "cell_type": "code",
   "execution_count": 4,
   "id": "d69aa290",
   "metadata": {},
   "outputs": [],
   "source": [
    "paling_tinggi = max(keluarga)"
   ]
  },
  {
   "cell_type": "code",
   "execution_count": 5,
   "id": "6801f80a",
   "metadata": {},
   "outputs": [
    {
     "data": {
      "text/plain": [
       "1.89"
      ]
     },
     "execution_count": 5,
     "metadata": {},
     "output_type": "execute_result"
    }
   ],
   "source": [
    "paling_tinggi"
   ]
  },
  {
   "cell_type": "code",
   "execution_count": 6,
   "id": "bf1ed0fa",
   "metadata": {},
   "outputs": [
    {
     "data": {
      "text/plain": [
       "4"
      ]
     },
     "execution_count": 6,
     "metadata": {},
     "output_type": "execute_result"
    }
   ],
   "source": [
    "len(keluarga)"
   ]
  },
  {
   "cell_type": "code",
   "execution_count": 7,
   "id": "da0cf955",
   "metadata": {},
   "outputs": [
    {
     "data": {
      "text/plain": [
       "1.7"
      ]
     },
     "execution_count": 7,
     "metadata": {},
     "output_type": "execute_result"
    }
   ],
   "source": [
    "round(1.68, 1)"
   ]
  },
  {
   "cell_type": "code",
   "execution_count": 8,
   "id": "c02f08b2",
   "metadata": {},
   "outputs": [
    {
     "data": {
      "text/plain": [
       "2"
      ]
     },
     "execution_count": 8,
     "metadata": {},
     "output_type": "execute_result"
    }
   ],
   "source": [
    "round(1.68)"
   ]
  },
  {
   "cell_type": "code",
   "execution_count": 9,
   "id": "f983c554",
   "metadata": {},
   "outputs": [
    {
     "name": "stdout",
     "output_type": "stream",
     "text": [
      "Help on built-in function round in module builtins:\n",
      "\n",
      "round(number, ndigits=None)\n",
      "    Round a number to a given precision in decimal digits.\n",
      "    \n",
      "    The return value is an integer if ndigits is omitted or None.  Otherwise\n",
      "    the return value has the same type as the number.  ndigits may be negative.\n",
      "\n"
     ]
    }
   ],
   "source": [
    "help(round)"
   ]
  },
  {
   "cell_type": "code",
   "execution_count": 10,
   "id": "4144dac7",
   "metadata": {},
   "outputs": [],
   "source": [
    "#Method\n",
    "adik = 'dian'                        \n",
    "# Object     tipe: str     contoh method: capitalize(), replace()\n",
    "tinggi = 1.73                        \n",
    "# Object     tipe: float   contoh method: bit_length(), conjugate()\n",
    "keluarga = [1.73, 1.68, 1.71, 1.89]\n",
    "# Object     tipe: list    contoh method: index(), count()"
   ]
  },
  {
   "cell_type": "code",
   "execution_count": 11,
   "id": "d87ca689",
   "metadata": {},
   "outputs": [],
   "source": [
    "#List Method\n",
    "keluarga = [\"kakak\", 1.73, \"adik\", 1.68, \"ibu\", 1.71, \"ayah\", 1.89]"
   ]
  },
  {
   "cell_type": "code",
   "execution_count": 12,
   "id": "ffea979e",
   "metadata": {},
   "outputs": [
    {
     "data": {
      "text/plain": [
       "2"
      ]
     },
     "execution_count": 12,
     "metadata": {},
     "output_type": "execute_result"
    }
   ],
   "source": [
    "keluarga.index('adik')"
   ]
  },
  {
   "cell_type": "code",
   "execution_count": 13,
   "id": "0418ec2b",
   "metadata": {},
   "outputs": [
    {
     "data": {
      "text/plain": [
       "1"
      ]
     },
     "execution_count": 13,
     "metadata": {},
     "output_type": "execute_result"
    }
   ],
   "source": [
    "keluarga.count(1.73)"
   ]
  },
  {
   "cell_type": "code",
   "execution_count": 14,
   "id": "795fec23",
   "metadata": {},
   "outputs": [
    {
     "data": {
      "text/plain": [
       "'dian'"
      ]
     },
     "execution_count": 14,
     "metadata": {},
     "output_type": "execute_result"
    }
   ],
   "source": [
    "#str Method\n",
    "adik"
   ]
  },
  {
   "cell_type": "code",
   "execution_count": 15,
   "id": "197b9a45",
   "metadata": {},
   "outputs": [
    {
     "data": {
      "text/plain": [
       "'Dian'"
      ]
     },
     "execution_count": 15,
     "metadata": {},
     "output_type": "execute_result"
    }
   ],
   "source": [
    "adik.capitalize()"
   ]
  },
  {
   "cell_type": "code",
   "execution_count": 16,
   "id": "ce9b21a3",
   "metadata": {},
   "outputs": [
    {
     "data": {
      "text/plain": [
       "'dyan'"
      ]
     },
     "execution_count": 16,
     "metadata": {},
     "output_type": "execute_result"
    }
   ],
   "source": [
    "adik.replace('i', 'y')"
   ]
  },
  {
   "cell_type": "code",
   "execution_count": 19,
   "id": "8613af62",
   "metadata": {},
   "outputs": [
    {
     "data": {
      "text/plain": [
       "2"
      ]
     },
     "execution_count": 19,
     "metadata": {},
     "output_type": "execute_result"
    }
   ],
   "source": [
    "adik.index('a')"
   ]
  },
  {
   "cell_type": "code",
   "execution_count": 20,
   "id": "fe75af7b",
   "metadata": {},
   "outputs": [
    {
     "data": {
      "text/plain": [
       "4"
      ]
     },
     "execution_count": 20,
     "metadata": {},
     "output_type": "execute_result"
    }
   ],
   "source": [
    "keluarga.index('ibu')"
   ]
  },
  {
   "cell_type": "code",
   "execution_count": 21,
   "id": "18a006ff",
   "metadata": {},
   "outputs": [],
   "source": [
    "keluarga.append('saya')"
   ]
  },
  {
   "cell_type": "code",
   "execution_count": 22,
   "id": "08d16dbc",
   "metadata": {},
   "outputs": [
    {
     "data": {
      "text/plain": [
       "['kakak', 1.73, 'adik', 1.68, 'ibu', 1.71, 'ayah', 1.89, 'saya']"
      ]
     },
     "execution_count": 22,
     "metadata": {},
     "output_type": "execute_result"
    }
   ],
   "source": [
    "keluarga"
   ]
  },
  {
   "cell_type": "code",
   "execution_count": 23,
   "id": "8d6968a3",
   "metadata": {},
   "outputs": [],
   "source": [
    "keluarga.append(1.76)"
   ]
  },
  {
   "cell_type": "code",
   "execution_count": 24,
   "id": "7a917279",
   "metadata": {},
   "outputs": [
    {
     "data": {
      "text/plain": [
       "['kakak', 1.73, 'adik', 1.68, 'ibu', 1.71, 'ayah', 1.89, 'saya', 1.76]"
      ]
     },
     "execution_count": 24,
     "metadata": {},
     "output_type": "execute_result"
    }
   ],
   "source": [
    "keluarga"
   ]
  },
  {
   "cell_type": "code",
   "execution_count": 25,
   "id": "234dddd9",
   "metadata": {},
   "outputs": [
    {
     "data": {
      "text/plain": [
       "list"
      ]
     },
     "execution_count": 25,
     "metadata": {},
     "output_type": "execute_result"
    }
   ],
   "source": [
    "type(keluarga)"
   ]
  },
  {
   "cell_type": "code",
   "execution_count": 26,
   "id": "f47fe2a7",
   "metadata": {},
   "outputs": [
    {
     "data": {
      "text/plain": [
       "4"
      ]
     },
     "execution_count": 26,
     "metadata": {},
     "output_type": "execute_result"
    }
   ],
   "source": [
    "keluarga.index('ibu')"
   ]
  },
  {
   "cell_type": "code",
   "execution_count": 27,
   "id": "e5fa3785",
   "metadata": {},
   "outputs": [],
   "source": [
    "import numpy"
   ]
  },
  {
   "cell_type": "code",
   "execution_count": 28,
   "id": "4e59afe9",
   "metadata": {},
   "outputs": [
    {
     "data": {
      "text/plain": [
       "array([1, 2, 3])"
      ]
     },
     "execution_count": 28,
     "metadata": {},
     "output_type": "execute_result"
    }
   ],
   "source": [
    "numpy.array([1,2,3])"
   ]
  },
  {
   "cell_type": "code",
   "execution_count": 29,
   "id": "fecd697c",
   "metadata": {},
   "outputs": [],
   "source": [
    "import numpy as np"
   ]
  },
  {
   "cell_type": "code",
   "execution_count": 30,
   "id": "184adf06",
   "metadata": {},
   "outputs": [
    {
     "data": {
      "text/plain": [
       "array([1, 2, 3])"
      ]
     },
     "execution_count": 30,
     "metadata": {},
     "output_type": "execute_result"
    }
   ],
   "source": [
    "np.array([1,2,3])"
   ]
  },
  {
   "cell_type": "code",
   "execution_count": 31,
   "id": "f1dcc09f",
   "metadata": {},
   "outputs": [],
   "source": [
    "from numpy import array"
   ]
  },
  {
   "cell_type": "code",
   "execution_count": 32,
   "id": "d64b9976",
   "metadata": {},
   "outputs": [
    {
     "data": {
      "text/plain": [
       "array([1, 2, 3])"
      ]
     },
     "execution_count": 32,
     "metadata": {},
     "output_type": "execute_result"
    }
   ],
   "source": [
    "array([1,2,3])"
   ]
  },
  {
   "cell_type": "code",
   "execution_count": 33,
   "id": "8de51d15",
   "metadata": {},
   "outputs": [
    {
     "name": "stdout",
     "output_type": "stream",
     "text": [
      "10 elemen pada keluarga_tambahan\n",
      "['kakak' '1.73' 'adik' '1.68' 'ibu' '1.71' 'ayah' '1.89' 'saya' '1.76']\n"
     ]
    }
   ],
   "source": [
    "from numpy import array\n",
    "keluarga = [\"kakak\", 1.73, \"adik\", 1.68, \"ibu\", 1.71, \"ayah\", 1.89]\n",
    "keluarga_tambahan = keluarga + ['saya', 1.76]\n",
    "print(str(len(keluarga_tambahan)) + \" elemen pada keluarga_tambahan\")\n",
    "np_keluarga = array(keluarga_tambahan) \n",
    "#Menggunakan Numpy, tapi tidak begitu jelas\n",
    "print(np_keluarga)"
   ]
  },
  {
   "cell_type": "code",
   "execution_count": 34,
   "id": "56acd0a3",
   "metadata": {},
   "outputs": [
    {
     "name": "stdout",
     "output_type": "stream",
     "text": [
      "10 elemen pada keluarga_tambahan\n",
      "['kakak' '1.73' 'adik' '1.68' 'ibu' '1.71' 'ayah' '1.89' 'saya' '1.76']\n"
     ]
    }
   ],
   "source": [
    "import numpy as np\n",
    "keluarga = [\"kakak\", 1.73, \"adik\", 1.68, \"ibu\", 1.71, \"ayah\", 1.89]\n",
    "keluarga_tambahan = keluarga + ['saya', 1.76]\n",
    "print(str(len(keluarga_tambahan)) + \" elemen pada keluarga_tambahan\")\n",
    "np_keluarga = np.array(keluarga_tambahan) \n",
    "#Jelas menggunakan Numpy dengan alias np\n",
    "print(np_keluarga)"
   ]
  },
  {
   "cell_type": "code",
   "execution_count": null,
   "id": "c46344db",
   "metadata": {},
   "outputs": [],
   "source": []
  }
 ],
 "metadata": {
  "kernelspec": {
   "display_name": "Python 3 (ipykernel)",
   "language": "python",
   "name": "python3"
  },
  "language_info": {
   "codemirror_mode": {
    "name": "ipython",
    "version": 3
   },
   "file_extension": ".py",
   "mimetype": "text/x-python",
   "name": "python",
   "nbconvert_exporter": "python",
   "pygments_lexer": "ipython3",
   "version": "3.9.13"
  }
 },
 "nbformat": 4,
 "nbformat_minor": 5
}
