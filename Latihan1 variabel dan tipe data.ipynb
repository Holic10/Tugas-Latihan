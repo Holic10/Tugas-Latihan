{
 "cells": [
  {
   "cell_type": "code",
   "execution_count": 1,
   "id": "53ad289b",
   "metadata": {},
   "outputs": [
    {
     "name": "stdout",
     "output_type": "stream",
     "text": [
      "32\n"
     ]
    }
   ],
   "source": [
    "# Ini adalah perkalian\n",
    "print(4 * 8)"
   ]
  },
  {
   "cell_type": "code",
   "execution_count": 3,
   "id": "72472578",
   "metadata": {},
   "outputs": [
    {
     "name": "stdout",
     "output_type": "stream",
     "text": [
      "0.5\n"
     ]
    }
   ],
   "source": [
    "# Ini adalah pembagian\n",
    "print(4 / 8)"
   ]
  },
  {
   "cell_type": "code",
   "execution_count": 4,
   "id": "78562c25",
   "metadata": {},
   "outputs": [
    {
     "name": "stdout",
     "output_type": "stream",
     "text": [
      "12\n"
     ]
    }
   ],
   "source": [
    "# Ini adalah pertambahan\n",
    "print(4 + 8)"
   ]
  },
  {
   "cell_type": "code",
   "execution_count": 5,
   "id": "d2527187",
   "metadata": {},
   "outputs": [
    {
     "name": "stdout",
     "output_type": "stream",
     "text": [
      "10\n",
      "0\n",
      "15\n",
      "5.0\n",
      "16\n",
      "4\n"
     ]
    }
   ],
   "source": [
    "# Penambahan dan pengurangan\n",
    "print(5 + 5)\n",
    "print(5 - 5)\n",
    "\n",
    "# Perkalian dan pembagian\n",
    "print(3 * 5)\n",
    "print(10 / 2)\n",
    "\n",
    "# Perpangkatan\n",
    "print(4 ** 2)\n",
    "\n",
    "# Pembagian Modulo\n",
    "print(18 % 7)"
   ]
  },
  {
   "cell_type": "code",
   "execution_count": 12,
   "id": "25a4ce6e",
   "metadata": {},
   "outputs": [
    {
     "name": "stdout",
     "output_type": "stream",
     "text": [
      "70.0\n"
     ]
    }
   ],
   "source": [
    "print (100 / 10 * 7)\n"
   ]
  },
  {
   "cell_type": "code",
   "execution_count": 19,
   "id": "9b899bb7",
   "metadata": {},
   "outputs": [],
   "source": [
    "simpanan = 100000"
   ]
  },
  {
   "cell_type": "code",
   "execution_count": 20,
   "id": "70523668",
   "metadata": {},
   "outputs": [],
   "source": [
    "faktor = 1.10"
   ]
  },
  {
   "cell_type": "code",
   "execution_count": 21,
   "id": "1d077c8a",
   "metadata": {},
   "outputs": [
    {
     "data": {
      "text/plain": [
       "909090.909090909"
      ]
     },
     "execution_count": 21,
     "metadata": {},
     "output_type": "execute_result"
    }
   ],
   "source": [
    "100000 / 1.10 * 10"
   ]
  },
  {
   "cell_type": "code",
   "execution_count": 22,
   "id": "07fc9c4a",
   "metadata": {},
   "outputs": [
    {
     "data": {
      "text/plain": [
       "90909.0909090909"
      ]
     },
     "execution_count": 22,
     "metadata": {},
     "output_type": "execute_result"
    }
   ],
   "source": [
    "simpanan / faktor"
   ]
  },
  {
   "cell_type": "code",
   "execution_count": 24,
   "id": "50255d9b",
   "metadata": {},
   "outputs": [],
   "source": [
    "hasil = simpanan / faktor * 10"
   ]
  },
  {
   "cell_type": "code",
   "execution_count": 25,
   "id": "af5cc40c",
   "metadata": {},
   "outputs": [
    {
     "data": {
      "text/plain": [
       "909090.909090909"
      ]
     },
     "execution_count": 25,
     "metadata": {},
     "output_type": "execute_result"
    }
   ],
   "source": [
    "hasil"
   ]
  },
  {
   "cell_type": "code",
   "execution_count": 26,
   "id": "b5bc60e6",
   "metadata": {},
   "outputs": [
    {
     "name": "stdout",
     "output_type": "stream",
     "text": [
      "909090.909090909\n"
     ]
    }
   ],
   "source": [
    "simpanan = 100000\n",
    "faktor = 1.10\n",
    "hasil = simpanan / faktor * 10\n",
    "print(hasil)"
   ]
  },
  {
   "cell_type": "code",
   "execution_count": 27,
   "id": "9f174ec2",
   "metadata": {},
   "outputs": [
    {
     "data": {
      "text/plain": [
       "110000.00000000001"
      ]
     },
     "execution_count": 27,
     "metadata": {},
     "output_type": "execute_result"
    }
   ],
   "source": [
    "100000 * 1.10"
   ]
  },
  {
   "cell_type": "code",
   "execution_count": 28,
   "id": "0e1f1d4f",
   "metadata": {},
   "outputs": [
    {
     "data": {
      "text/plain": [
       "110000.00000000001"
      ]
     },
     "execution_count": 28,
     "metadata": {},
     "output_type": "execute_result"
    }
   ],
   "source": [
    "simpanan * faktor"
   ]
  },
  {
   "cell_type": "code",
   "execution_count": 29,
   "id": "a0552096",
   "metadata": {},
   "outputs": [],
   "source": [
    "hasil_1 = simpanan * faktor"
   ]
  },
  {
   "cell_type": "code",
   "execution_count": 30,
   "id": "fe45479e",
   "metadata": {},
   "outputs": [
    {
     "name": "stdout",
     "output_type": "stream",
     "text": [
      "110000.00000000001\n"
     ]
    }
   ],
   "source": [
    "print(hasil_1)"
   ]
  },
  {
   "cell_type": "code",
   "execution_count": 31,
   "id": "fe58b2ae",
   "metadata": {},
   "outputs": [],
   "source": [
    "desc = \"sains data\""
   ]
  },
  {
   "cell_type": "code",
   "execution_count": 32,
   "id": "3e6a459e",
   "metadata": {},
   "outputs": [
    {
     "data": {
      "text/plain": [
       "'5'"
      ]
     },
     "execution_count": 32,
     "metadata": {},
     "output_type": "execute_result"
    }
   ],
   "source": [
    "a = 5\n",
    "a_baru = str(a)\n",
    "a_baru"
   ]
  },
  {
   "cell_type": "code",
   "execution_count": 33,
   "id": "9dea0dd6",
   "metadata": {},
   "outputs": [
    {
     "data": {
      "text/plain": [
       "str"
      ]
     },
     "execution_count": 33,
     "metadata": {},
     "output_type": "execute_result"
    }
   ],
   "source": [
    "type(a_baru)"
   ]
  },
  {
   "cell_type": "code",
   "execution_count": 34,
   "id": "d918e2ff",
   "metadata": {},
   "outputs": [
    {
     "data": {
      "text/plain": [
       "300"
      ]
     },
     "execution_count": 34,
     "metadata": {},
     "output_type": "execute_result"
    }
   ],
   "source": [
    "b = '300'\n",
    "b_baru = int(b)\n",
    "b_baru"
   ]
  },
  {
   "cell_type": "code",
   "execution_count": 35,
   "id": "9e7d8dea",
   "metadata": {},
   "outputs": [
    {
     "data": {
      "text/plain": [
       "int"
      ]
     },
     "execution_count": 35,
     "metadata": {},
     "output_type": "execute_result"
    }
   ],
   "source": [
    "type(b_baru)"
   ]
  },
  {
   "cell_type": "code",
   "execution_count": 41,
   "id": "bc7a0529",
   "metadata": {},
   "outputs": [
    {
     "name": "stdout",
     "output_type": "stream",
     "text": [
      "Uang saya awalnya 100000 dan saya sekarang punya 194871.7100000001. Kueren cak\n"
     ]
    }
   ],
   "source": [
    "# Simpanan dan hasil\n",
    "simpanan_x = 100000\n",
    "hasil_x = 100000 * 1.10 ** 7\n",
    "\n",
    "# Fix the printout\n",
    "print(\"Uang saya awalnya \" + str(simpanan_x) + \" dan saya sekarang punya \" + str(hasil_x) + \". Kueren cak\")"
   ]
  },
  {
   "cell_type": "code",
   "execution_count": 42,
   "id": "5f860527",
   "metadata": {},
   "outputs": [
    {
     "name": "stdout",
     "output_type": "stream",
     "text": [
      "3.1415926\n"
     ]
    }
   ],
   "source": [
    "# Selesaikan juga ini\n",
    "pi_string = \"3.1415926\"\n",
    "\n",
    "# Konversi pi_string menjadi float simpan dalam variabel pi_float dan kemudian print\n",
    "pi_float = float(pi_string)\n",
    "print(pi_float)"
   ]
  },
  {
   "cell_type": "code",
   "execution_count": null,
   "id": "6b1bc0ae",
   "metadata": {},
   "outputs": [],
   "source": []
  }
 ],
 "metadata": {
  "kernelspec": {
   "display_name": "Python 3 (ipykernel)",
   "language": "python",
   "name": "python3"
  },
  "language_info": {
   "codemirror_mode": {
    "name": "ipython",
    "version": 3
   },
   "file_extension": ".py",
   "mimetype": "text/x-python",
   "name": "python",
   "nbconvert_exporter": "python",
   "pygments_lexer": "ipython3",
   "version": "3.9.13"
  }
 },
 "nbformat": 4,
 "nbformat_minor": 5
}
